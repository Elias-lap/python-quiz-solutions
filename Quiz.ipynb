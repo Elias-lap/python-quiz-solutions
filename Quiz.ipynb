{
 "cells": [
  {
   "cell_type": "code",
   "execution_count": 2,
   "id": "96ca308f",
   "metadata": {},
   "outputs": [
    {
     "name": "stdout",
     "output_type": "stream",
     "text": [
      "Before swap:\n",
      "a = 7\n",
      "b = 5\n",
      "After swap:\n",
      "a = 5\n",
      "b = 7\n"
     ]
    }
   ],
   "source": [
    "a = 7 \n",
    "b = 5 \n",
    "print(\"Before swap:\")\n",
    "print(\"a =\", a)\n",
    "print(\"b =\", b)\n",
    "\n",
    "a , b = b , a\n",
    "print(\"After swap:\")\n",
    "print(\"a =\", a)\n",
    "print(\"b =\", b)"
   ]
  },
  {
   "cell_type": "code",
   "execution_count": 1,
   "id": "e378baf2",
   "metadata": {},
   "outputs": [
    {
     "name": "stdout",
     "output_type": "stream",
     "text": [
      "The factorial of 5 is 120\n"
     ]
    }
   ],
   "source": [
    "num = int(input(\"Enter a number: \"))\n",
    "if  num < 0 :\n",
    "    print(\"The number is negative\")\n",
    "elif num == 0 :\n",
    "    print(\"The factorial of 0 is 1.\")\n",
    "else:\n",
    "    fact = 1\n",
    "    for i in range(1, num + 1):\n",
    "        fact = fact * i\n",
    "    print(\"The factorial of\", num, \"is\", fact)"
   ]
  },
  {
   "cell_type": "code",
   "execution_count": 3,
   "id": "493fa8f4",
   "metadata": {},
   "outputs": [
    {
     "name": "stdout",
     "output_type": "stream",
     "text": [
      "Select operation:\n",
      "1. Add\n",
      "2. Subtract\n",
      "3. Multiply\n",
      "4. Divide\n",
      "Multiplication Result: 16.0\n"
     ]
    }
   ],
   "source": [
    "def add(x, y):\n",
    "    return x + y\n",
    "\n",
    "def subtract(x, y):\n",
    "    return x - y\n",
    "\n",
    "def multiply(x, y):\n",
    "    return x * y\n",
    "\n",
    "def divide(x, y):\n",
    "    if y == 0:\n",
    "        return \"Error: Cannot divide by zero\"\n",
    "    return x / y\n",
    "\n",
    "print(\"Select operation:\")\n",
    "print(\"1. Add\")\n",
    "print(\"2. Subtract\")\n",
    "print(\"3. Multiply\")\n",
    "print(\"4. Divide\")\n",
    "\n",
    "choice = input(\"Enter choice (1/2/3/4): \")\n",
    "\n",
    "num1 = float(input(\"Enter first number: \"))\n",
    "num2 = float(input(\"Enter second number: \"))\n",
    "\n",
    "if choice == '1':\n",
    "    print(\"Addition Result:\", add(num1, num2))\n",
    "elif choice == '2':\n",
    "    print(\"Subtraction Result:\", subtract(num1, num2))\n",
    "elif choice == '3':\n",
    "    print(\"Multiplication Result:\", multiply(num1, num2))\n",
    "elif choice == '4':\n",
    "    print(\"Division Result:\", divide(num1, num2))\n",
    "\n",
    "\n"
   ]
  },
  {
   "cell_type": "code",
   "execution_count": 8,
   "id": "e4faf985",
   "metadata": {},
   "outputs": [
    {
     "name": "stdout",
     "output_type": "stream",
     "text": [
      "Sorted words: brown dog fox jumps lazy over quick the the\n"
     ]
    }
   ],
   "source": [
    "sentence = input(\"Enter a sentence: \")\n",
    "words = sentence.split()\n",
    "words.sort()\n",
    "print(\"Sorted words:\", \" \".join(words))\n"
   ]
  },
  {
   "cell_type": "code",
   "execution_count": 10,
   "id": "94b5bf90",
   "metadata": {},
   "outputs": [
    {
     "name": "stdout",
     "output_type": "stream",
     "text": [
      "Unique numbers: [10, 20, 30, 99]\n",
      "Second largest number: 30\n"
     ]
    }
   ],
   "source": [
    "numbers = [10, 30, 30, 20, 99]\n",
    "unique_numbers = list(set(numbers))\n",
    "unique_numbers.sort()\n",
    "print(\"Unique numbers:\", unique_numbers)\n",
    "second_largest = unique_numbers[-2]\n",
    "print(\"Second largest number:\", second_largest)"
   ]
  },
  {
   "cell_type": "code",
   "execution_count": 12,
   "id": "24f6d418",
   "metadata": {},
   "outputs": [
    {
     "name": "stdout",
     "output_type": "stream",
     "text": [
      "Your BMI is: 0.0\n",
      "You are underweight.\n"
     ]
    }
   ],
   "source": [
    "weight = float(input(\"Enter your weight in kg: \"))\n",
    "height = float(input(\"Enter your height in meters: \"))\n",
    "\n",
    "def calculate_bmi(weight, height):\n",
    "    bmi = weight / (height ** 2)\n",
    "    return round(bmi, 2)\n",
    "\n",
    "bmi = calculate_bmi(weight, height)\n",
    "print(\"Your BMI is:\", bmi)\n",
    "\n",
    "if bmi < 18.5:\n",
    "    print(\"You are underweight.\")\n",
    "elif bmi < 25:\n",
    "    print(\"You have a normal weight.\")\n",
    "elif bmi < 30:\n",
    "    print(\"You are overweight.\")\n",
    "else:\n",
    "    print(\"You are obese.\")"
   ]
  },
  {
   "cell_type": "code",
   "execution_count": null,
   "id": "29076805",
   "metadata": {},
   "outputs": [
    {
     "name": "stdout",
     "output_type": "stream",
     "text": [
      "I am Ali, a student.\n",
      "Average grade: 85.0\n",
      "I am Mona, a teacher of Physics.\n"
     ]
    }
   ],
   "source": [
    "class Person:\n",
    "    def __init__(self, name, age):\n",
    "        self._name = name\n",
    "        self._age = age\n",
    "\n",
    "    def get_name(self):\n",
    "        return self._name\n",
    "\n",
    "    def set_name(self, name):\n",
    "        self._name = name\n",
    "\n",
    "    def get_age(self):\n",
    "        return self._age\n",
    "\n",
    "    def set_age(self, age):\n",
    "        self._age = age\n",
    "\n",
    "\n",
    "class Student(Person):\n",
    "    def __init__(self, name, age, student_id):\n",
    "        super().__init__(name, age)\n",
    "        self._student_id = student_id\n",
    "        self._grades = {}\n",
    "\n",
    "    def add_grade(self, subject, grade):\n",
    "        self._grades[subject] = grade\n",
    "\n",
    "    def calculate_average(self):\n",
    "        total = sum(self._grades.values())\n",
    "        return total / len(self._grades)\n",
    "    def introduce(self):\n",
    "        return f\"I am {self._name}, a student.\"\n",
    "    \n",
    "\n",
    "class Teacher(Person):\n",
    "    def __init__(self, name, age, subject):\n",
    "        super().__init__(name, age)\n",
    "        self._subject = subject\n",
    "\n",
    "    def introduce(self):\n",
    "        return f\"I am {self._name}, a teacher of {self._subject}.\"\n",
    "    \n",
    "\n",
    "\n",
    "# Create a student\n",
    "s = Student(\"Ali\", 17, \"S01\")\n",
    "s.add_grade(\"Math\", 90)\n",
    "s.add_grade(\"Science\", 80)\n",
    "\n",
    "print(s.introduce())  \n",
    "print(\"Average grade:\", s.calculate_average())  \n",
    "t = Teacher(\"Mona\", 35, \"Physics\")\n",
    "print(t.introduce())  \n",
    "\n"
   ]
  },
  {
   "cell_type": "code",
   "execution_count": 15,
   "id": "0f9ae483",
   "metadata": {},
   "outputs": [
    {
     "name": "stdout",
     "output_type": "stream",
     "text": [
      "Title: The Great Gatsby, Year: 1925, Author: F. Scott Fitzgerald\n",
      "Title: National Geographic, Year: 2023, Issue: 123\n"
     ]
    }
   ],
   "source": [
    "class Item:\n",
    "    def __init__(self, title, year):\n",
    "        self._title = title\n",
    "        self._year = year\n",
    "\n",
    "    def get_title(self):\n",
    "        return self._title\n",
    "\n",
    "    def set_title(self, title):\n",
    "        self._title = title\n",
    "\n",
    "    def get_year(self):\n",
    "        return self._year\n",
    "\n",
    "    def set_year(self, year):\n",
    "        self._year = year\n",
    "\n",
    "    def get_info(self):\n",
    "        return f\"Title: {self._title}, Year: {self._year}\"\n",
    "\n",
    "\n",
    "class Book(Item):\n",
    "    def __init__(self, title, year, author):\n",
    "        super().__init__(title, year)\n",
    "        self._author = author\n",
    "\n",
    "    def get_info(self):\n",
    "        return f\"Title: {self._title}, Year: {self._year}, Author: {self._author}\"\n",
    "    \n",
    "class Magazine(Item):\n",
    "    def __init__(self, title, year, issue_number):\n",
    "        super().__init__(title, year)\n",
    "        self._issue_number = issue_number\n",
    "\n",
    "    def get_info(self):\n",
    "        return f\"Title: {self._title}, Year: {self._year}, Issue: {self._issue_number}\"\n",
    "    \n",
    "book = Book(\"The Great Gatsby\", 1925, \"F. Scott Fitzgerald\")\n",
    "magazine = Magazine(\"National Geographic\", 2023, 123)\n",
    "print(book.get_info())\n",
    "print(magazine.get_info())\n"
   ]
  }
 ],
 "metadata": {
  "kernelspec": {
   "display_name": "base",
   "language": "python",
   "name": "python3"
  },
  "language_info": {
   "codemirror_mode": {
    "name": "ipython",
    "version": 3
   },
   "file_extension": ".py",
   "mimetype": "text/x-python",
   "name": "python",
   "nbconvert_exporter": "python",
   "pygments_lexer": "ipython3",
   "version": "3.13.5"
  }
 },
 "nbformat": 4,
 "nbformat_minor": 5
}
