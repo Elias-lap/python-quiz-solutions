{
 "cells": [
  {
   "cell_type": "code",
   "execution_count": 2,
   "id": "96ca308f",
   "metadata": {},
   "outputs": [
    {
     "name": "stdout",
     "output_type": "stream",
     "text": [
      "Before swap:\n",
      "a = 7\n",
      "b = 5\n",
      "After swap:\n",
      "a = 5\n",
      "b = 7\n"
     ]
    }
   ],
   "source": [
    "a = 7 \n",
    "b = 5 \n",
    "print(\"Before swap:\")\n",
    "print(\"a =\", a)\n",
    "print(\"b =\", b)\n",
    "\n",
    "a , b = b , a\n",
    "print(\"After swap:\")\n",
    "print(\"a =\", a)\n",
    "print(\"b =\", b)"
   ]
  },
  {
   "cell_type": "code",
   "execution_count": null,
   "id": "e378baf2",
   "metadata": {},
   "outputs": [],
   "source": []
  }
 ],
 "metadata": {
  "kernelspec": {
   "display_name": "base",
   "language": "python",
   "name": "python3"
  },
  "language_info": {
   "codemirror_mode": {
    "name": "ipython",
    "version": 3
   },
   "file_extension": ".py",
   "mimetype": "text/x-python",
   "name": "python",
   "nbconvert_exporter": "python",
   "pygments_lexer": "ipython3",
   "version": "3.13.5"
  }
 },
 "nbformat": 4,
 "nbformat_minor": 5
}
