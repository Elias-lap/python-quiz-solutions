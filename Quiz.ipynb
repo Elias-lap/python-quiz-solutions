{
 "cells": [
  {
   "cell_type": "code",
   "execution_count": 2,
   "id": "96ca308f",
   "metadata": {},
   "outputs": [
    {
     "name": "stdout",
     "output_type": "stream",
     "text": [
      "Before swap:\n",
      "a = 7\n",
      "b = 5\n",
      "After swap:\n",
      "a = 5\n",
      "b = 7\n"
     ]
    }
   ],
   "source": [
    "a = 7 \n",
    "b = 5 \n",
    "print(\"Before swap:\")\n",
    "print(\"a =\", a)\n",
    "print(\"b =\", b)\n",
    "\n",
    "a , b = b , a\n",
    "print(\"After swap:\")\n",
    "print(\"a =\", a)\n",
    "print(\"b =\", b)"
   ]
  },
  {
   "cell_type": "code",
   "execution_count": 1,
   "id": "e378baf2",
   "metadata": {},
   "outputs": [
    {
     "name": "stdout",
     "output_type": "stream",
     "text": [
      "The factorial of 5 is 120\n"
     ]
    }
   ],
   "source": [
    "num = int(input(\"Enter a number: \"))\n",
    "if  num < 0 :\n",
    "    print(\"The number is negative\")\n",
    "elif num == 0 :\n",
    "    print(\"The factorial of 0 is 1.\")\n",
    "else:\n",
    "    fact = 1\n",
    "    for i in range(1, num + 1):\n",
    "        fact = fact * i\n",
    "    print(\"The factorial of\", num, \"is\", fact)"
   ]
  },
  {
   "cell_type": "code",
   "execution_count": 3,
   "id": "493fa8f4",
   "metadata": {},
   "outputs": [
    {
     "name": "stdout",
     "output_type": "stream",
     "text": [
      "Select operation:\n",
      "1. Add\n",
      "2. Subtract\n",
      "3. Multiply\n",
      "4. Divide\n",
      "Multiplication Result: 16.0\n"
     ]
    }
   ],
   "source": [
    "def add(x, y):\n",
    "    return x + y\n",
    "\n",
    "def subtract(x, y):\n",
    "    return x - y\n",
    "\n",
    "def multiply(x, y):\n",
    "    return x * y\n",
    "\n",
    "def divide(x, y):\n",
    "    if y == 0:\n",
    "        return \"Error: Cannot divide by zero\"\n",
    "    return x / y\n",
    "\n",
    "print(\"Select operation:\")\n",
    "print(\"1. Add\")\n",
    "print(\"2. Subtract\")\n",
    "print(\"3. Multiply\")\n",
    "print(\"4. Divide\")\n",
    "\n",
    "choice = input(\"Enter choice (1/2/3/4): \")\n",
    "\n",
    "num1 = float(input(\"Enter first number: \"))\n",
    "num2 = float(input(\"Enter second number: \"))\n",
    "\n",
    "if choice == '1':\n",
    "    print(\"Addition Result:\", add(num1, num2))\n",
    "elif choice == '2':\n",
    "    print(\"Subtraction Result:\", subtract(num1, num2))\n",
    "elif choice == '3':\n",
    "    print(\"Multiplication Result:\", multiply(num1, num2))\n",
    "elif choice == '4':\n",
    "    print(\"Division Result:\", divide(num1, num2))\n",
    "\n",
    "\n"
   ]
  },
  {
   "cell_type": "code",
   "execution_count": 8,
   "id": "e4faf985",
   "metadata": {},
   "outputs": [
    {
     "name": "stdout",
     "output_type": "stream",
     "text": [
      "Sorted words: brown dog fox jumps lazy over quick the the\n"
     ]
    }
   ],
   "source": [
    "sentence = input(\"Enter a sentence: \")\n",
    "words = sentence.split()\n",
    "words.sort()\n",
    "print(\"Sorted words:\", \" \".join(words))\n"
   ]
  },
  {
   "cell_type": "code",
   "execution_count": 10,
   "id": "94b5bf90",
   "metadata": {},
   "outputs": [
    {
     "name": "stdout",
     "output_type": "stream",
     "text": [
      "Unique numbers: [10, 20, 30, 99]\n",
      "Second largest number: 30\n"
     ]
    }
   ],
   "source": [
    "numbers = [10, 30, 30, 20, 99]\n",
    "unique_numbers = list(set(numbers))\n",
    "unique_numbers.sort()\n",
    "print(\"Unique numbers:\", unique_numbers)\n",
    "second_largest = unique_numbers[-2]\n",
    "print(\"Second largest number:\", second_largest)"
   ]
  },
  {
   "cell_type": "code",
   "execution_count": 12,
   "id": "24f6d418",
   "metadata": {},
   "outputs": [
    {
     "name": "stdout",
     "output_type": "stream",
     "text": [
      "Your BMI is: 0.0\n",
      "You are underweight.\n"
     ]
    }
   ],
   "source": [
    "weight = float(input(\"Enter your weight in kg: \"))\n",
    "height = float(input(\"Enter your height in meters: \"))\n",
    "\n",
    "def calculate_bmi(weight, height):\n",
    "    bmi = weight / (height ** 2)\n",
    "    return round(bmi, 2)\n",
    "\n",
    "bmi = calculate_bmi(weight, height)\n",
    "print(\"Your BMI is:\", bmi)\n",
    "\n",
    "if bmi < 18.5:\n",
    "    print(\"You are underweight.\")\n",
    "elif bmi < 25:\n",
    "    print(\"You have a normal weight.\")\n",
    "elif bmi < 30:\n",
    "    print(\"You are overweight.\")\n",
    "else:\n",
    "    print(\"You are obese.\")"
   ]
  }
 ],
 "metadata": {
  "kernelspec": {
   "display_name": "base",
   "language": "python",
   "name": "python3"
  },
  "language_info": {
   "codemirror_mode": {
    "name": "ipython",
    "version": 3
   },
   "file_extension": ".py",
   "mimetype": "text/x-python",
   "name": "python",
   "nbconvert_exporter": "python",
   "pygments_lexer": "ipython3",
   "version": "3.13.5"
  }
 },
 "nbformat": 4,
 "nbformat_minor": 5
}
